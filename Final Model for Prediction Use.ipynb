{
 "cells": [
  {
   "cell_type": "code",
   "execution_count": 3,
   "metadata": {},
   "outputs": [],
   "source": [
    "from joblib import dump, load\n",
    "import numpy as np\n",
    "# Load model\n",
    "model = load('Model.joblib') \n",
    "\n",
    "categories = ['Cold Thermal', 'Electro-chemical', 'Electro-mechanical', 'Flow Battery'\n",
    " 'Hot Thermal', 'Lead Battery', 'Lithium Battery', 'Pumped Hydro Storage',\n",
    " 'Sodium Battery']"
   ]
  },
  {
   "cell_type": "code",
   "execution_count": 11,
   "metadata": {},
   "outputs": [],
   "source": [
    "# Format of input X:\n",
    "# [Rated Power (kW), Duration (hours), Elevation (m), Elevation Difference (m), Max Temp (C), \n",
    "# Min Temp (C), Average Temp (C)]\n",
    "\n",
    "# Change the values below as necessary\n",
    "rated_power = 7200\n",
    "duration = 0.1\n",
    "elevation_difference = 70\n",
    "max_temperature = 30\n",
    "min_temperature = 20\n",
    "average_temperature = 25"
   ]
  },
  {
   "cell_type": "code",
   "execution_count": 12,
   "metadata": {},
   "outputs": [],
   "source": [
    "X = np.array([[rated_power,duration,elevation_difference,max_temperature,min_temperature,average_temperature]])"
   ]
  },
  {
   "cell_type": "code",
   "execution_count": 13,
   "metadata": {},
   "outputs": [
    {
     "name": "stdout",
     "output_type": "stream",
     "text": [
      "The predicted type of ESS to use for this application is:  Sodium Battery\n"
     ]
    }
   ],
   "source": [
    "print('The predicted type of ESS to use for this application is: ',categories[model.predict(X)[0]])"
   ]
  },
  {
   "cell_type": "markdown",
   "metadata": {},
   "source": [
    "Run predictions for 11 common applications"
   ]
  },
  {
   "cell_type": "code",
   "execution_count": 2,
   "metadata": {},
   "outputs": [],
   "source": [
    "# Default values, median from training set\n",
    "elevation_difference = 13.3\n",
    "max_temperature = 20.7\n",
    "min_temperature = 2.9\n",
    "average_temperature = 11.8"
   ]
  },
  {
   "cell_type": "code",
   "execution_count": 25,
   "metadata": {},
   "outputs": [
    {
     "name": "stdout",
     "output_type": "stream",
     "text": [
      "[[2.5050e+05 5.0000e-01 7.0000e+01 3.0000e+01 2.0000e+01 2.5000e+01]\n",
      " [2.5050e+05 4.0000e+00 7.0000e+01 3.0000e+01 2.0000e+01 2.5000e+01]\n",
      " [5.5000e+04 5.0000e+00 7.0000e+01 3.0000e+01 2.0000e+01 2.5000e+01]\n",
      " [5.0500e+04 2.5000e+00 7.0000e+01 3.0000e+01 2.0000e+01 2.5000e+01]\n",
      " [5.2500e+03 2.5000e+00 7.0000e+01 3.0000e+01 2.0000e+01 2.5000e+01]\n",
      " [5.0500e+03 1.2640e-01 7.0000e+01 3.0000e+01 2.0000e+01 2.5000e+01]\n",
      " [5.0005e+02 3.5000e+00 7.0000e+01 3.0000e+01 2.0000e+01 2.5000e+01]\n",
      " [5.0250e+03 2.5000e+00 7.0000e+01 3.0000e+01 2.0000e+01 2.5000e+01]\n",
      " [3.5000e+00 3.0000e+00 7.0000e+01 3.0000e+01 2.0000e+01 2.5000e+01]\n",
      " [5.2500e+02 3.5000e+00 7.0000e+01 3.0000e+01 2.0000e+01 2.5000e+01]\n",
      " [5.0000e+02 3.0000e+00 7.0000e+01 3.0000e+01 2.0000e+01 2.5000e+01]]\n"
     ]
    }
   ],
   "source": [
    "applications = np.array([[250.5  , 0.5],\n",
    "                         [250.5  , 4.0],\n",
    "                         [55     , 5.0],\n",
    "                         [50.5   , 2.5],\n",
    "                         [5.25   , 2.5],\n",
    "                         [5.05   , 0.1264],\n",
    "                         [0.50005, 3.5],\n",
    "                         [5.025  , 2.5],\n",
    "                         [0.0035 , 3.0],\n",
    "                         [0.525  , 3.5],\n",
    "                         [0.5    , 3.0]])\n",
    "\n",
    "applications = np.hstack((applications, \n",
    "                          np.ones((len(applications),1))*elevation_difference,\n",
    "                          np.ones((len(applications),1))*max_temperature,\n",
    "                          np.ones((len(applications),1))*min_temperature,\n",
    "                          np.ones((len(applications),1))*average_temperature))\n",
    "\n",
    "applications[:,0] = applications[:,0]*1000 # MW to kW\n",
    "print(applications)"
   ]
  },
  {
   "cell_type": "code",
   "execution_count": 26,
   "metadata": {},
   "outputs": [],
   "source": [
    "results = model.predict_proba(applications)"
   ]
  },
  {
   "cell_type": "code",
   "execution_count": 33,
   "metadata": {},
   "outputs": [],
   "source": [
    "np.savetxt('Prediction of technical suitability.csv', results, delimiter=',')"
   ]
  },
  {
   "cell_type": "code",
   "execution_count": 29,
   "metadata": {},
   "outputs": [
    {
     "data": {
      "text/plain": [
       "<matplotlib.image.AxesImage at 0x1fa5346d7c0>"
      ]
     },
     "execution_count": 29,
     "metadata": {},
     "output_type": "execute_result"
    },
    {
     "data": {
      "image/png": "[encoded data removed]",
      "text/plain": [
       "<Figure size 432x288 with 1 Axes>"
      ]
     },
     "metadata": {
      "needs_background": "light"
     },
     "output_type": "display_data"
    }
   ],
   "source": [
    "import matplotlib.pyplot as plt\n",
    "plt.imshow(results.T, cmap=plt.cm.Blues)"
   ]
  },
  {
   "cell_type": "code",
   "execution_count": null,
   "metadata": {},
   "outputs": [],
   "source": []
  }
 ],
 "metadata": {
  "kernelspec": {
   "display_name": "Python 3",
   "language": "python",
   "name": "python3"
  },
  "language_info": {
   "codemirror_mode": {
    "name": "ipython",
    "version": 3
   },
   "file_extension": ".py",
   "mimetype": "text/x-python",
   "name": "python",
   "nbconvert_exporter": "python",
   "pygments_lexer": "ipython3",
   "version": "3.8.8"
  }
 },
 "nbformat": 4,
 "nbformat_minor": 4
}
