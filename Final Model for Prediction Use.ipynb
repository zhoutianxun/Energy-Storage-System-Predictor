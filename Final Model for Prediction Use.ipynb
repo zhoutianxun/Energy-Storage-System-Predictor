{
 "cells": [
  {
   "cell_type": "code",
   "execution_count": 22,
   "metadata": {},
   "outputs": [],
   "source": [
    "from joblib import dump, load\n",
    "import numpy as np\n",
    "# Load model\n",
    "model = load('Model.joblib') \n",
    "\n",
    "categories = ['Cold Thermal', 'Electro-chemical', 'Electro-mechanical', 'Flow Battery'\n",
    " 'Hot Thermal', 'Lead Battery', 'Lithium Battery', 'Pumped Hydro Storage',\n",
    " 'Sodium Battery']"
   ]
  },
  {
   "cell_type": "code",
   "execution_count": 7,
   "metadata": {},
   "outputs": [],
   "source": [
    "# Format of input X:\n",
    "# [Rated Power (kW), Duration (hours), Elevation (m), Elevation Difference (m), Max Temp (C), \n",
    "# Min Temp (C), Average Temp (C)]\n",
    "\n",
    "# Change the values below as necessary\n",
    "rated_power = 7200\n",
    "duration = 0.1\n",
    "elevation = 20\n",
    "elevation_difference = 70\n",
    "max_temperature = 30\n",
    "min_temperature = 20\n",
    "average_temperature = 25"
   ]
  },
  {
   "cell_type": "code",
   "execution_count": 8,
   "metadata": {},
   "outputs": [],
   "source": [
    "# Rated Power (kW), Duration (hr) and Elevation Difference (m) are to be log scaled in input vector\n",
    "rated_power = np.log10(rated_power + 0.000001)\n",
    "duration = np.log10(duration + 0.000001)\n",
    "elevation_difference = np.log10(elevation_difference+0.000001)"
   ]
  },
  {
   "cell_type": "code",
   "execution_count": 14,
   "metadata": {},
   "outputs": [],
   "source": [
    "X = np.array([[rated_power,duration,elevation,elevation_difference,max_temperature,min_temperature,average_temperature]])"
   ]
  },
  {
   "cell_type": "code",
   "execution_count": 24,
   "metadata": {},
   "outputs": [
    {
     "name": "stdout",
     "output_type": "stream",
     "text": [
      "The predicted type of ESS to use for this application is:  Pumped Hydro Storage\n"
     ]
    }
   ],
   "source": [
    "print('The predicted type of ESS to use for this application is: ',categories[model.predict(X)[0]])"
   ]
  }
 ],
 "metadata": {
  "kernelspec": {
   "display_name": "Python 3",
   "language": "python",
   "name": "python3"
  },
  "language_info": {
   "codemirror_mode": {
    "name": "ipython",
    "version": 3
   },
   "file_extension": ".py",
   "mimetype": "text/x-python",
   "name": "python",
   "nbconvert_exporter": "python",
   "pygments_lexer": "ipython3",
   "version": "3.8.5"
  }
 },
 "nbformat": 4,
 "nbformat_minor": 4
}
