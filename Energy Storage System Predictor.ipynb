{
 "cells": [
  {
   "cell_type": "code",
   "execution_count": 99,
   "metadata": {},
   "outputs": [],
   "source": [
    "# basic packages\n",
    "import pandas as pd\n",
    "import numpy as np\n",
    "\n",
    "# visualization\n",
    "import seaborn as sb\n",
    "import matplotlib\n",
    "import matplotlib.pyplot as plt\n",
    "%matplotlib inline\n",
    "\n",
    "# data scalers\n",
    "from sklearn.preprocessing import Normalizer\n",
    "from sklearn.preprocessing import RobustScaler\n",
    "from sklearn.preprocessing import MinMaxScaler\n",
    "\n",
    "# model training\n",
    "from sklearn.model_selection import train_test_split\n",
    "from sklearn.model_selection import RandomizedSearchCV\n",
    "from sklearn.model_selection import GridSearchCV\n",
    "\n",
    "# model evaluation\n",
    "from sklearn.metrics import confusion_matrix\n",
    "from sklearn.metrics import f1_score\n",
    "from sklearn.metrics import accuracy_score\n",
    "from sklearn.metrics import classification_report\n",
    "\n",
    "# classifiers\n",
    "from sklearn.neighbors import KNeighborsClassifier # KNN\n",
    "from sklearn.linear_model import LogisticRegression # logistic regression\n",
    "from sklearn.tree import DecisionTreeClassifier # decision Tree\n",
    "from sklearn.neural_network import MLPClassifier # multi layer perceptron (simple neural net)\n",
    "from sklearn.ensemble import RandomForestClassifier # random forest\n",
    "from sklearn.ensemble import GradientBoostingClassifier # gbm\n",
    "import xgboost as xgb # xgboost\n",
    "\n",
    "# ignore warnings\n",
    "import warnings\n",
    "warnings.filterwarnings('ignore')"
   ]
  },
  {
   "cell_type": "code",
   "execution_count": 49,
   "metadata": {},
   "outputs": [
    {
     "data": {
      "text/html": [
       "<div>\n",
       "<style scoped>\n",
       "    .dataframe tbody tr th:only-of-type {\n",
       "        vertical-align: middle;\n",
       "    }\n",
       "\n",
       "    .dataframe tbody tr th {\n",
       "        vertical-align: top;\n",
       "    }\n",
       "\n",
       "    .dataframe thead th {\n",
       "        text-align: right;\n",
       "    }\n",
       "</style>\n",
       "<table border=\"1\" class=\"dataframe\">\n",
       "  <thead>\n",
       "    <tr style=\"text-align: right;\">\n",
       "      <th></th>\n",
       "      <th>Unnamed: 0</th>\n",
       "      <th>Unnamed: 0.1</th>\n",
       "      <th>Title</th>\n",
       "      <th>Technology Broad Category</th>\n",
       "      <th>Technology Mid-Type</th>\n",
       "      <th>Technology Sub-Type</th>\n",
       "      <th>Status</th>\n",
       "      <th>Rated Power (kW)</th>\n",
       "      <th>Duration (hours)</th>\n",
       "      <th>Latitude</th>\n",
       "      <th>...</th>\n",
       "      <th>Longitude_East</th>\n",
       "      <th>Longitude_West</th>\n",
       "      <th>Elevation</th>\n",
       "      <th>Elevation_North</th>\n",
       "      <th>Elevation_South</th>\n",
       "      <th>Elevation_East</th>\n",
       "      <th>Elevation_West</th>\n",
       "      <th>Max Temp</th>\n",
       "      <th>Min Temp</th>\n",
       "      <th>Average Temp</th>\n",
       "    </tr>\n",
       "  </thead>\n",
       "  <tbody>\n",
       "    <tr>\n",
       "      <th>0</th>\n",
       "      <td>0</td>\n",
       "      <td>0</td>\n",
       "      <td>Ponale (Riva del Garda Ledro) Hydroelectric Po...</td>\n",
       "      <td>Pumped Hydro Storage</td>\n",
       "      <td>Open-loop Pumped Hydro Storage</td>\n",
       "      <td>Open-loop Pumped Hydro Storage</td>\n",
       "      <td>Operational</td>\n",
       "      <td>80000</td>\n",
       "      <td>0.0</td>\n",
       "      <td>45.888517</td>\n",
       "      <td>...</td>\n",
       "      <td>10.845</td>\n",
       "      <td>10.835</td>\n",
       "      <td>90.318260</td>\n",
       "      <td>94.701324</td>\n",
       "      <td>62.795341</td>\n",
       "      <td>74.825035</td>\n",
       "      <td>188.014160</td>\n",
       "      <td>16.9</td>\n",
       "      <td>-0.6</td>\n",
       "      <td>8.075000</td>\n",
       "    </tr>\n",
       "    <tr>\n",
       "      <th>1</th>\n",
       "      <td>1</td>\n",
       "      <td>1</td>\n",
       "      <td>Urdiceto Hydroelectric Power Station</td>\n",
       "      <td>Pumped Hydro Storage</td>\n",
       "      <td>Open-loop Pumped Hydro Storage</td>\n",
       "      <td>Open-loop Pumped Hydro Storage</td>\n",
       "      <td>Operational</td>\n",
       "      <td>7200</td>\n",
       "      <td>0.0</td>\n",
       "      <td>42.633421</td>\n",
       "      <td>...</td>\n",
       "      <td>0.225</td>\n",
       "      <td>0.215</td>\n",
       "      <td>1002.296509</td>\n",
       "      <td>1249.593384</td>\n",
       "      <td>1091.346802</td>\n",
       "      <td>1076.144287</td>\n",
       "      <td>1079.851440</td>\n",
       "      <td>17.7</td>\n",
       "      <td>7.6</td>\n",
       "      <td>12.233333</td>\n",
       "    </tr>\n",
       "    <tr>\n",
       "      <th>2</th>\n",
       "      <td>2</td>\n",
       "      <td>2</td>\n",
       "      <td>Rocky River Pumped Storage Plant</td>\n",
       "      <td>Pumped Hydro Storage</td>\n",
       "      <td>Open-loop Pumped Hydro Storage</td>\n",
       "      <td>Open-loop Pumped Hydro Storage</td>\n",
       "      <td>Operational</td>\n",
       "      <td>29000</td>\n",
       "      <td>0.0</td>\n",
       "      <td>41.582580</td>\n",
       "      <td>...</td>\n",
       "      <td>-73.425</td>\n",
       "      <td>-73.435</td>\n",
       "      <td>66.019066</td>\n",
       "      <td>68.805016</td>\n",
       "      <td>129.584091</td>\n",
       "      <td>61.000000</td>\n",
       "      <td>67.746742</td>\n",
       "      <td>20.7</td>\n",
       "      <td>-6.0</td>\n",
       "      <td>7.833333</td>\n",
       "    </tr>\n",
       "    <tr>\n",
       "      <th>3</th>\n",
       "      <td>3</td>\n",
       "      <td>3</td>\n",
       "      <td>Etzelwerk Pumped Hydro Storage Power Station</td>\n",
       "      <td>Pumped Hydro Storage</td>\n",
       "      <td>Open-loop Pumped Hydro Storage</td>\n",
       "      <td>Open-loop Pumped Hydro Storage</td>\n",
       "      <td>Operational</td>\n",
       "      <td>135000</td>\n",
       "      <td>0.0</td>\n",
       "      <td>47.136963</td>\n",
       "      <td>...</td>\n",
       "      <td>8.785</td>\n",
       "      <td>8.775</td>\n",
       "      <td>888.960022</td>\n",
       "      <td>888.960022</td>\n",
       "      <td>888.960022</td>\n",
       "      <td>888.960022</td>\n",
       "      <td>889.000000</td>\n",
       "      <td>16.9</td>\n",
       "      <td>-0.6</td>\n",
       "      <td>8.075000</td>\n",
       "    </tr>\n",
       "    <tr>\n",
       "      <th>4</th>\n",
       "      <td>4</td>\n",
       "      <td>4</td>\n",
       "      <td>Skhodnenskaya Hydro Plant</td>\n",
       "      <td>Pumped Hydro Storage</td>\n",
       "      <td>Open-loop Pumped Hydro Storage</td>\n",
       "      <td>Open-loop Pumped Hydro Storage</td>\n",
       "      <td>Operational</td>\n",
       "      <td>30000</td>\n",
       "      <td>0.0</td>\n",
       "      <td>55.850657</td>\n",
       "      <td>...</td>\n",
       "      <td>37.445</td>\n",
       "      <td>37.435</td>\n",
       "      <td>173.639954</td>\n",
       "      <td>175.949539</td>\n",
       "      <td>171.961624</td>\n",
       "      <td>174.227707</td>\n",
       "      <td>176.101135</td>\n",
       "      <td>17.0</td>\n",
       "      <td>-9.7</td>\n",
       "      <td>4.266667</td>\n",
       "    </tr>\n",
       "  </tbody>\n",
       "</table>\n",
       "<p>5 rows × 52 columns</p>\n",
       "</div>"
      ],
      "text/plain": [
       "   Unnamed: 0  Unnamed: 0.1  \\\n",
       "0           0             0   \n",
       "1           1             1   \n",
       "2           2             2   \n",
       "3           3             3   \n",
       "4           4             4   \n",
       "\n",
       "                                               Title  \\\n",
       "0  Ponale (Riva del Garda Ledro) Hydroelectric Po...   \n",
       "1               Urdiceto Hydroelectric Power Station   \n",
       "2                   Rocky River Pumped Storage Plant   \n",
       "3       Etzelwerk Pumped Hydro Storage Power Station   \n",
       "4                          Skhodnenskaya Hydro Plant   \n",
       "\n",
       "  Technology Broad Category             Technology Mid-Type  \\\n",
       "0      Pumped Hydro Storage  Open-loop Pumped Hydro Storage   \n",
       "1      Pumped Hydro Storage  Open-loop Pumped Hydro Storage   \n",
       "2      Pumped Hydro Storage  Open-loop Pumped Hydro Storage   \n",
       "3      Pumped Hydro Storage  Open-loop Pumped Hydro Storage   \n",
       "4      Pumped Hydro Storage  Open-loop Pumped Hydro Storage   \n",
       "\n",
       "              Technology Sub-Type       Status  Rated Power (kW)  \\\n",
       "0  Open-loop Pumped Hydro Storage  Operational             80000   \n",
       "1  Open-loop Pumped Hydro Storage  Operational              7200   \n",
       "2  Open-loop Pumped Hydro Storage  Operational             29000   \n",
       "3  Open-loop Pumped Hydro Storage  Operational            135000   \n",
       "4  Open-loop Pumped Hydro Storage  Operational             30000   \n",
       "\n",
       "   Duration (hours)   Latitude  ...  Longitude_East Longitude_West  \\\n",
       "0               0.0  45.888517  ...          10.845         10.835   \n",
       "1               0.0  42.633421  ...           0.225          0.215   \n",
       "2               0.0  41.582580  ...         -73.425        -73.435   \n",
       "3               0.0  47.136963  ...           8.785          8.775   \n",
       "4               0.0  55.850657  ...          37.445         37.435   \n",
       "\n",
       "     Elevation  Elevation_North  Elevation_South  Elevation_East  \\\n",
       "0    90.318260        94.701324        62.795341       74.825035   \n",
       "1  1002.296509      1249.593384      1091.346802     1076.144287   \n",
       "2    66.019066        68.805016       129.584091       61.000000   \n",
       "3   888.960022       888.960022       888.960022      888.960022   \n",
       "4   173.639954       175.949539       171.961624      174.227707   \n",
       "\n",
       "   Elevation_West  Max Temp  Min Temp  Average Temp  \n",
       "0      188.014160      16.9      -0.6      8.075000  \n",
       "1     1079.851440      17.7       7.6     12.233333  \n",
       "2       67.746742      20.7      -6.0      7.833333  \n",
       "3      889.000000      16.9      -0.6      8.075000  \n",
       "4      176.101135      17.0      -9.7      4.266667  \n",
       "\n",
       "[5 rows x 52 columns]"
      ]
     },
     "execution_count": 49,
     "metadata": {},
     "output_type": "execute_result"
    }
   ],
   "source": [
    "data = pd.read_csv('Final Dataset.csv')\n",
    "data.head()"
   ]
  },
  {
   "cell_type": "code",
   "execution_count": 50,
   "metadata": {
    "jupyter": {
     "outputs_hidden": false
    },
    "scrolled": false
   },
   "outputs": [
    {
     "data": {
      "text/plain": [
       "1693"
      ]
     },
     "execution_count": 50,
     "metadata": {},
     "output_type": "execute_result"
    }
   ],
   "source": [
    "len(data)"
   ]
  },
  {
   "cell_type": "code",
   "execution_count": 51,
   "metadata": {},
   "outputs": [],
   "source": [
    "# Get elevation difference\n",
    "data['Elevation_North'] = abs(data['Elevation_North'] - data['Elevation'])\n",
    "data['Elevation_South'] = abs(data['Elevation_South'] - data['Elevation'])\n",
    "data['Elevation_East'] = abs(data['Elevation_East'] - data['Elevation'])\n",
    "data['Elevation_West'] = abs(data['Elevation_West'] - data['Elevation'])\n",
    "data['Elevation Difference'] = data[['Elevation_North','Elevation_South','Elevation_East','Elevation_West']].max(axis=1)"
   ]
  },
  {
   "cell_type": "code",
   "execution_count": 52,
   "metadata": {
    "scrolled": false
   },
   "outputs": [
    {
     "data": {
      "text/html": [
       "<div>\n",
       "<style scoped>\n",
       "    .dataframe tbody tr th:only-of-type {\n",
       "        vertical-align: middle;\n",
       "    }\n",
       "\n",
       "    .dataframe tbody tr th {\n",
       "        vertical-align: top;\n",
       "    }\n",
       "\n",
       "    .dataframe thead th {\n",
       "        text-align: right;\n",
       "    }\n",
       "</style>\n",
       "<table border=\"1\" class=\"dataframe\">\n",
       "  <thead>\n",
       "    <tr style=\"text-align: right;\">\n",
       "      <th></th>\n",
       "      <th>Technology Broad Category</th>\n",
       "      <th>Technology Mid-Type</th>\n",
       "      <th>Technology Sub-Type</th>\n",
       "      <th>Status</th>\n",
       "      <th>Rated Power (kW)</th>\n",
       "      <th>Duration (hours)</th>\n",
       "      <th>Latitude</th>\n",
       "      <th>Longitude</th>\n",
       "      <th>Elevation</th>\n",
       "      <th>Elevation Difference</th>\n",
       "      <th>Max Temp</th>\n",
       "      <th>Min Temp</th>\n",
       "      <th>Average Temp</th>\n",
       "    </tr>\n",
       "  </thead>\n",
       "  <tbody>\n",
       "    <tr>\n",
       "      <th>0</th>\n",
       "      <td>Pumped Hydro Storage</td>\n",
       "      <td>Open-loop Pumped Hydro Storage</td>\n",
       "      <td>Open-loop Pumped Hydro Storage</td>\n",
       "      <td>Operational</td>\n",
       "      <td>80000</td>\n",
       "      <td>0.0</td>\n",
       "      <td>45.888517</td>\n",
       "      <td>10.84</td>\n",
       "      <td>90.318260</td>\n",
       "      <td>97.695900</td>\n",
       "      <td>16.9</td>\n",
       "      <td>-0.6</td>\n",
       "      <td>8.075000</td>\n",
       "    </tr>\n",
       "    <tr>\n",
       "      <th>1</th>\n",
       "      <td>Pumped Hydro Storage</td>\n",
       "      <td>Open-loop Pumped Hydro Storage</td>\n",
       "      <td>Open-loop Pumped Hydro Storage</td>\n",
       "      <td>Operational</td>\n",
       "      <td>7200</td>\n",
       "      <td>0.0</td>\n",
       "      <td>42.633421</td>\n",
       "      <td>0.22</td>\n",
       "      <td>1002.296509</td>\n",
       "      <td>247.296875</td>\n",
       "      <td>17.7</td>\n",
       "      <td>7.6</td>\n",
       "      <td>12.233333</td>\n",
       "    </tr>\n",
       "    <tr>\n",
       "      <th>2</th>\n",
       "      <td>Pumped Hydro Storage</td>\n",
       "      <td>Open-loop Pumped Hydro Storage</td>\n",
       "      <td>Open-loop Pumped Hydro Storage</td>\n",
       "      <td>Operational</td>\n",
       "      <td>29000</td>\n",
       "      <td>0.0</td>\n",
       "      <td>41.582580</td>\n",
       "      <td>-73.43</td>\n",
       "      <td>66.019066</td>\n",
       "      <td>63.565025</td>\n",
       "      <td>20.7</td>\n",
       "      <td>-6.0</td>\n",
       "      <td>7.833333</td>\n",
       "    </tr>\n",
       "    <tr>\n",
       "      <th>3</th>\n",
       "      <td>Pumped Hydro Storage</td>\n",
       "      <td>Open-loop Pumped Hydro Storage</td>\n",
       "      <td>Open-loop Pumped Hydro Storage</td>\n",
       "      <td>Operational</td>\n",
       "      <td>135000</td>\n",
       "      <td>0.0</td>\n",
       "      <td>47.136963</td>\n",
       "      <td>8.78</td>\n",
       "      <td>888.960022</td>\n",
       "      <td>0.039978</td>\n",
       "      <td>16.9</td>\n",
       "      <td>-0.6</td>\n",
       "      <td>8.075000</td>\n",
       "    </tr>\n",
       "    <tr>\n",
       "      <th>4</th>\n",
       "      <td>Pumped Hydro Storage</td>\n",
       "      <td>Open-loop Pumped Hydro Storage</td>\n",
       "      <td>Open-loop Pumped Hydro Storage</td>\n",
       "      <td>Operational</td>\n",
       "      <td>30000</td>\n",
       "      <td>0.0</td>\n",
       "      <td>55.850657</td>\n",
       "      <td>37.44</td>\n",
       "      <td>173.639954</td>\n",
       "      <td>2.461182</td>\n",
       "      <td>17.0</td>\n",
       "      <td>-9.7</td>\n",
       "      <td>4.266667</td>\n",
       "    </tr>\n",
       "  </tbody>\n",
       "</table>\n",
       "</div>"
      ],
      "text/plain": [
       "  Technology Broad Category             Technology Mid-Type  \\\n",
       "0      Pumped Hydro Storage  Open-loop Pumped Hydro Storage   \n",
       "1      Pumped Hydro Storage  Open-loop Pumped Hydro Storage   \n",
       "2      Pumped Hydro Storage  Open-loop Pumped Hydro Storage   \n",
       "3      Pumped Hydro Storage  Open-loop Pumped Hydro Storage   \n",
       "4      Pumped Hydro Storage  Open-loop Pumped Hydro Storage   \n",
       "\n",
       "              Technology Sub-Type       Status  Rated Power (kW)  \\\n",
       "0  Open-loop Pumped Hydro Storage  Operational             80000   \n",
       "1  Open-loop Pumped Hydro Storage  Operational              7200   \n",
       "2  Open-loop Pumped Hydro Storage  Operational             29000   \n",
       "3  Open-loop Pumped Hydro Storage  Operational            135000   \n",
       "4  Open-loop Pumped Hydro Storage  Operational             30000   \n",
       "\n",
       "   Duration (hours)   Latitude  Longitude    Elevation  Elevation Difference  \\\n",
       "0               0.0  45.888517      10.84    90.318260             97.695900   \n",
       "1               0.0  42.633421       0.22  1002.296509            247.296875   \n",
       "2               0.0  41.582580     -73.43    66.019066             63.565025   \n",
       "3               0.0  47.136963       8.78   888.960022              0.039978   \n",
       "4               0.0  55.850657      37.44   173.639954              2.461182   \n",
       "\n",
       "   Max Temp  Min Temp  Average Temp  \n",
       "0      16.9      -0.6      8.075000  \n",
       "1      17.7       7.6     12.233333  \n",
       "2      20.7      -6.0      7.833333  \n",
       "3      16.9      -0.6      8.075000  \n",
       "4      17.0      -9.7      4.266667  "
      ]
     },
     "execution_count": 52,
     "metadata": {},
     "output_type": "execute_result"
    }
   ],
   "source": [
    "# Select columns to use for features X and targert Y\n",
    "columns = ['Technology Broad Category','Technology Mid-Type','Technology Sub-Type','Status','Rated Power (kW)','Duration (hours)','Latitude','Longitude','Elevation','Elevation Difference','Max Temp','Min Temp','Average Temp']\n",
    "data = data[columns]\n",
    "data.head()"
   ]
  },
  {
   "cell_type": "code",
   "execution_count": 53,
   "metadata": {
    "jupyter": {
     "outputs_hidden": false
    },
    "scrolled": true
   },
   "outputs": [
    {
     "name": "stdout",
     "output_type": "stream",
     "text": [
      "number of missing values in Status: 1\n",
      "total missing data :1\n",
      "number of datapoints after removing null values :1692\n"
     ]
    }
   ],
   "source": [
    "col = np.where(pd.isnull(data))[1]\n",
    "for i in range(max(col)+1):\n",
    "    if (col==i).sum() > 0:\n",
    "        print('number of missing values in ' + str(data.columns[i]) + ': ' + str((col==i).sum()))\n",
    "print('total missing data :' + str(len(col)))\n",
    "data = data.dropna()\n",
    "print('number of datapoints after removing null values :' + str(len(data)))"
   ]
  },
  {
   "cell_type": "code",
   "execution_count": 54,
   "metadata": {},
   "outputs": [
    {
     "name": "stdout",
     "output_type": "stream",
     "text": [
      "number of datapoints after removing decomissioned and not building :1381\n"
     ]
    }
   ],
   "source": [
    "statuses = ['Operational','Offline/Under Repair','Under Construction']\n",
    "data = data.loc[data['Status'].isin(statuses)]\n",
    "print('number of datapoints after removing decomissioned and not building :' + str(len(data)))"
   ]
  },
  {
   "cell_type": "code",
   "execution_count": 55,
   "metadata": {
    "scrolled": true
   },
   "outputs": [
    {
     "data": {
      "text/plain": [
       "Technology Broad Category\n",
       "Compressed Air Energy Storage      2\n",
       "Electro-chemical                 748\n",
       "Electro-mechanical                55\n",
       "Hydrogen Storage                   9\n",
       "Lead-Carbon                        2\n",
       "Liquid Air Energy Storage          1\n",
       "Lithium Ion Battery               27\n",
       "Pumped Hydro Storage             328\n",
       "Thermal Storage                  209\n",
       "Name: Technology Mid-Type, dtype: int64"
      ]
     },
     "execution_count": 55,
     "metadata": {},
     "output_type": "execute_result"
    }
   ],
   "source": [
    "# Examine Categories\n",
    "data.groupby('Technology Broad Category').count()['Technology Mid-Type']"
   ]
  },
  {
   "cell_type": "code",
   "execution_count": 56,
   "metadata": {
    "scrolled": true
   },
   "outputs": [
    {
     "data": {
      "text/plain": [
       "Technology Mid-Type\n",
       "Advanced Lead-acid Battery             1\n",
       "Chilled Water Thermal Storage         25\n",
       "Closed-loop Pumped Hydro Storage       3\n",
       "Compressed Air Energy Storage         13\n",
       "Concrete Thermal Storage               1\n",
       "Electrical-mechanical                  2\n",
       "Electro-chemical                      86\n",
       "Electro-chemical Capacitor            26\n",
       "Electrochemical                        1\n",
       "Flow Battery                          63\n",
       "Flywheel                              41\n",
       "Heat Thermal Storage                  19\n",
       "Hydrogen Storage                       9\n",
       "Ice Thermal Storage                  124\n",
       "Lead-Carbon                            2\n",
       "Lead-acid Battery                     75\n",
       "Liquid Air Energy Storage              2\n",
       "Lithium Ion Titanate Battery           1\n",
       "Lithium Iron Phosphate Battery         3\n",
       "Lithium Polymer Battery               28\n",
       "Lithium-ion Battery                  413\n",
       "Molten Salt Thermal Storage           34\n",
       "Nickel based Battery                   6\n",
       "Open-loop Pumped Hydro Storage       323\n",
       "Pumped Hydro                           1\n",
       "Pumped Hydro Storage                   1\n",
       "Sodium based Battery                  63\n",
       "Sodium-ion Battery                     2\n",
       "Sodium-sulfur Battery                  2\n",
       "Thermal Storage                        4\n",
       "Thermal: Chilled Water and Ice         1\n",
       "Valve Regulated Lead-acid Battery      2\n",
       "Vanadium Redox Flow Battery            4\n",
       "Name: Technology Broad Category, dtype: int64"
      ]
     },
     "execution_count": 56,
     "metadata": {},
     "output_type": "execute_result"
    }
   ],
   "source": [
    "data.groupby('Technology Mid-Type').count()['Technology Broad Category']"
   ]
  },
  {
   "cell_type": "markdown",
   "metadata": {},
   "source": [
    "## Grouping of Categories\n",
    "The category grouping shall be done according to:\n",
    "- ESS with similar properties such as different types of flow battery can be combined into a single category\n",
    "- Each category should have sufficient number of datapoints\n",
    "\n",
    "Grouping\n",
    "- 'Technology Broad Category' grouping for pumped hydro and Electro-mechanical is maintained\n",
    "- For Electro-chemical, there are large number of datapoints, and comprises of different types of technologies, hence 'Technology Mid-Type' will be used to further breakdown into more groups.\n",
    "    - Lead based batteries (75+)\n",
    "    - Lithium based batteries (413+)\n",
    "    - Sodium based batteries (63+)\n",
    "    - Flow batteries (63)\n",
    "    - Other batteries that do not fall into those categories\n",
    "- For Thermal storage, there are heat thermal and cold thermal storage"
   ]
  },
  {
   "cell_type": "code",
   "execution_count": 57,
   "metadata": {},
   "outputs": [],
   "source": [
    "data['Category'] = data['Technology Broad Category']\n",
    "\n",
    "#1. Lithium Battery\n",
    "data['Category'].loc[data['Technology Mid-Type'].str.contains('Lithium')] = 'Lithium Battery'\n",
    "#2. Lead Battery\n",
    "data['Category'].loc[data['Technology Mid-Type'].str.contains('Lead')] = 'Lead Battery'\n",
    "#3. Sodium Battery\n",
    "data['Category'].loc[data['Technology Mid-Type'].str.contains('Sodium')] = 'Sodium Battery'\n",
    "#4. Flow Battery\n",
    "data['Category'].loc[data['Technology Mid-Type'].str.contains('Flow')] = 'Flow Battery'\n",
    "\n",
    "#5. Cold thermal storage\n",
    "data['Category'].loc[data['Technology Mid-Type'].str.contains('Chilled|Ice')] = 'Cold Thermal'\n",
    "#6. Hot thermal storage\n",
    "data['Category'].loc[data['Technology Mid-Type'].str.contains('Heat|Concrete|Molten')] = 'Hot Thermal'\n"
   ]
  },
  {
   "cell_type": "code",
   "execution_count": 58,
   "metadata": {
    "scrolled": false
   },
   "outputs": [
    {
     "data": {
      "text/plain": [
       "Category\n",
       "Cold Thermal                     150\n",
       "Compressed Air Energy Storage      2\n",
       "Electro-chemical                 119\n",
       "Electro-mechanical                55\n",
       "Flow Battery                      67\n",
       "Hot Thermal                       54\n",
       "Hydrogen Storage                   9\n",
       "Lead Battery                      80\n",
       "Liquid Air Energy Storage          1\n",
       "Lithium Battery                  445\n",
       "Pumped Hydro Storage             328\n",
       "Sodium Battery                    67\n",
       "Thermal Storage                    4\n",
       "Name: Status, dtype: int64"
      ]
     },
     "execution_count": 58,
     "metadata": {},
     "output_type": "execute_result"
    }
   ],
   "source": [
    "data.groupby('Category').count()['Status']"
   ]
  },
  {
   "cell_type": "code",
   "execution_count": 59,
   "metadata": {
    "scrolled": false
   },
   "outputs": [
    {
     "data": {
      "text/plain": [
       "Category\n",
       "Cold Thermal            150\n",
       "Electro-chemical        119\n",
       "Electro-mechanical       58\n",
       "Flow Battery             67\n",
       "Hot Thermal              54\n",
       "Lead Battery             80\n",
       "Lithium Battery         445\n",
       "Pumped Hydro Storage    328\n",
       "Sodium Battery           67\n",
       "Name: Status, dtype: int64"
      ]
     },
     "execution_count": 59,
     "metadata": {},
     "output_type": "execute_result"
    }
   ],
   "source": [
    "# Consolidation of remaining small categories into larger categories\n",
    "data['Category'].loc[data['Category'] == 'Compressed Air Energy Storage'] = 'Electro-mechanical'\n",
    "data['Category'].loc[data['Category'] == 'Liquid Air Energy Storage'] = 'Electro-mechanical'\n",
    "# Drop remaining thermal storage - unclear if cold or hot thermal\n",
    "data = data.loc[data['Category'] != 'Thermal Storage']\n",
    "# Drop Hydrogen Storage - dataset too small\n",
    "data = data.loc[data['Category'] != 'Hydrogen Storage']\n",
    "data.groupby('Category').count()['Status']"
   ]
  },
  {
   "cell_type": "markdown",
   "metadata": {},
   "source": [
    "## Exploratory Data Analysis & Data Processing"
   ]
  },
  {
   "cell_type": "code",
   "execution_count": 60,
   "metadata": {
    "scrolled": true
   },
   "outputs": [
    {
     "data": {
      "text/html": [
       "<div>\n",
       "<style scoped>\n",
       "    .dataframe tbody tr th:only-of-type {\n",
       "        vertical-align: middle;\n",
       "    }\n",
       "\n",
       "    .dataframe tbody tr th {\n",
       "        vertical-align: top;\n",
       "    }\n",
       "\n",
       "    .dataframe thead th {\n",
       "        text-align: right;\n",
       "    }\n",
       "</style>\n",
       "<table border=\"1\" class=\"dataframe\">\n",
       "  <thead>\n",
       "    <tr style=\"text-align: right;\">\n",
       "      <th></th>\n",
       "      <th>Rated Power (kW)</th>\n",
       "      <th>Duration (hours)</th>\n",
       "      <th>Latitude</th>\n",
       "      <th>Longitude</th>\n",
       "      <th>Elevation</th>\n",
       "      <th>Elevation Difference</th>\n",
       "      <th>Max Temp</th>\n",
       "      <th>Min Temp</th>\n",
       "      <th>Average Temp</th>\n",
       "    </tr>\n",
       "  </thead>\n",
       "  <tbody>\n",
       "    <tr>\n",
       "      <th>count</th>\n",
       "      <td>1.368000e+03</td>\n",
       "      <td>1368.000000</td>\n",
       "      <td>1368.000000</td>\n",
       "      <td>1368.000000</td>\n",
       "      <td>1368.000000</td>\n",
       "      <td>1368.000000</td>\n",
       "      <td>1368.000000</td>\n",
       "      <td>1368.000000</td>\n",
       "      <td>1368.000000</td>\n",
       "    </tr>\n",
       "    <tr>\n",
       "      <th>mean</th>\n",
       "      <td>1.275541e+05</td>\n",
       "      <td>14.426835</td>\n",
       "      <td>33.918213</td>\n",
       "      <td>-5.372465</td>\n",
       "      <td>224.920938</td>\n",
       "      <td>39.032829</td>\n",
       "      <td>21.018275</td>\n",
       "      <td>3.414985</td>\n",
       "      <td>12.166265</td>\n",
       "    </tr>\n",
       "    <tr>\n",
       "      <th>std</th>\n",
       "      <td>3.342279e+05</td>\n",
       "      <td>388.047966</td>\n",
       "      <td>19.538581</td>\n",
       "      <td>86.645725</td>\n",
       "      <td>863.361092</td>\n",
       "      <td>61.652829</td>\n",
       "      <td>4.756232</td>\n",
       "      <td>9.514957</td>\n",
       "      <td>6.094505</td>\n",
       "    </tr>\n",
       "    <tr>\n",
       "      <th>min</th>\n",
       "      <td>0.000000e+00</td>\n",
       "      <td>0.000000</td>\n",
       "      <td>-77.524740</td>\n",
       "      <td>-170.279946</td>\n",
       "      <td>-5464.533203</td>\n",
       "      <td>0.000000</td>\n",
       "      <td>-8.500000</td>\n",
       "      <td>-34.200000</td>\n",
       "      <td>-24.125000</td>\n",
       "    </tr>\n",
       "    <tr>\n",
       "      <th>25%</th>\n",
       "      <td>6.850000e+01</td>\n",
       "      <td>0.000000</td>\n",
       "      <td>33.101203</td>\n",
       "      <td>-82.545000</td>\n",
       "      <td>26.754828</td>\n",
       "      <td>5.297775</td>\n",
       "      <td>17.700000</td>\n",
       "      <td>-0.600000</td>\n",
       "      <td>8.100000</td>\n",
       "    </tr>\n",
       "    <tr>\n",
       "      <th>50%</th>\n",
       "      <td>1.000000e+03</td>\n",
       "      <td>1.330000</td>\n",
       "      <td>38.000000</td>\n",
       "      <td>0.000000</td>\n",
       "      <td>161.943100</td>\n",
       "      <td>13.361488</td>\n",
       "      <td>20.700000</td>\n",
       "      <td>2.900000</td>\n",
       "      <td>12.033333</td>\n",
       "    </tr>\n",
       "    <tr>\n",
       "      <th>75%</th>\n",
       "      <td>3.612500e+04</td>\n",
       "      <td>4.000000</td>\n",
       "      <td>43.583110</td>\n",
       "      <td>21.452500</td>\n",
       "      <td>442.101875</td>\n",
       "      <td>41.624542</td>\n",
       "      <td>24.400000</td>\n",
       "      <td>8.800000</td>\n",
       "      <td>15.066667</td>\n",
       "    </tr>\n",
       "    <tr>\n",
       "      <th>max</th>\n",
       "      <td>3.003000e+06</td>\n",
       "      <td>14310.330000</td>\n",
       "      <td>67.038639</td>\n",
       "      <td>174.170000</td>\n",
       "      <td>4280.655762</td>\n",
       "      <td>478.546387</td>\n",
       "      <td>35.700000</td>\n",
       "      <td>27.100000</td>\n",
       "      <td>28.925000</td>\n",
       "    </tr>\n",
       "  </tbody>\n",
       "</table>\n",
       "</div>"
      ],
      "text/plain": [
       "       Rated Power (kW)  Duration (hours)     Latitude    Longitude  \\\n",
       "count      1.368000e+03       1368.000000  1368.000000  1368.000000   \n",
       "mean       1.275541e+05         14.426835    33.918213    -5.372465   \n",
       "std        3.342279e+05        388.047966    19.538581    86.645725   \n",
       "min        0.000000e+00          0.000000   -77.524740  -170.279946   \n",
       "25%        6.850000e+01          0.000000    33.101203   -82.545000   \n",
       "50%        1.000000e+03          1.330000    38.000000     0.000000   \n",
       "75%        3.612500e+04          4.000000    43.583110    21.452500   \n",
       "max        3.003000e+06      14310.330000    67.038639   174.170000   \n",
       "\n",
       "         Elevation  Elevation Difference     Max Temp     Min Temp  \\\n",
       "count  1368.000000           1368.000000  1368.000000  1368.000000   \n",
       "mean    224.920938             39.032829    21.018275     3.414985   \n",
       "std     863.361092             61.652829     4.756232     9.514957   \n",
       "min   -5464.533203              0.000000    -8.500000   -34.200000   \n",
       "25%      26.754828              5.297775    17.700000    -0.600000   \n",
       "50%     161.943100             13.361488    20.700000     2.900000   \n",
       "75%     442.101875             41.624542    24.400000     8.800000   \n",
       "max    4280.655762            478.546387    35.700000    27.100000   \n",
       "\n",
       "       Average Temp  \n",
       "count   1368.000000  \n",
       "mean      12.166265  \n",
       "std        6.094505  \n",
       "min      -24.125000  \n",
       "25%        8.100000  \n",
       "50%       12.033333  \n",
       "75%       15.066667  \n",
       "max       28.925000  "
      ]
     },
     "execution_count": 60,
     "metadata": {},
     "output_type": "execute_result"
    }
   ],
   "source": [
    "data.describe()"
   ]
  },
  {
   "cell_type": "code",
   "execution_count": 61,
   "metadata": {},
   "outputs": [
    {
     "data": {
      "text/plain": [
       "array([[<AxesSubplot:title={'center':'Rated Power (kW)'}>,\n",
       "        <AxesSubplot:title={'center':'Duration (hours)'}>,\n",
       "        <AxesSubplot:title={'center':'Latitude'}>],\n",
       "       [<AxesSubplot:title={'center':'Longitude'}>,\n",
       "        <AxesSubplot:title={'center':'Elevation'}>,\n",
       "        <AxesSubplot:title={'center':'Elevation Difference'}>],\n",
       "       [<AxesSubplot:title={'center':'Max Temp'}>,\n",
       "        <AxesSubplot:title={'center':'Min Temp'}>,\n",
       "        <AxesSubplot:title={'center':'Average Temp'}>]], dtype=object)"
      ]
     },
     "execution_count": 61,
     "metadata": {},
     "output_type": "execute_result"
    },
    {
     "data": {
      "image/png": "[encoded data removed]",
      "text/plain": [
       "<Figure size 720x720 with 9 Axes>"
      ]
     },
     "metadata": {},
     "output_type": "display_data"
    }
   ],
   "source": [
    "matplotlib.style.use('ggplot')\n",
    "data.hist(bins=50, figsize=(10,10))"
   ]
  },
  {
   "cell_type": "code",
   "execution_count": 62,
   "metadata": {},
   "outputs": [
    {
     "data": {
      "text/plain": [
       "array([[<AxesSubplot:title={'center':'Log Scaler'}>,\n",
       "        <AxesSubplot:title={'center':'Normalizer'}>],\n",
       "       [<AxesSubplot:title={'center':'MinMaxScaler'}>,\n",
       "        <AxesSubplot:title={'center':'Robust Scaler'}>]], dtype=object)"
      ]
     },
     "execution_count": 62,
     "metadata": {},
     "output_type": "execute_result"
    },
    {
     "data": {
      "image/png": "[encoded data removed]",
      "text/plain": [
       "<Figure size 432x288 with 4 Axes>"
      ]
     },
     "metadata": {},
     "output_type": "display_data"
    }
   ],
   "source": [
    "# Visualize for Rated Power\n",
    "temp = pd.DataFrame()\n",
    "temp['Log Scaler'] = np.log10(data['Rated Power (kW)']+0.000001)\n",
    "temp['Normalizer'] = Normalizer().fit_transform(data['Rated Power (kW)'].values.reshape(-1,1))\n",
    "temp['MinMaxScaler'] = MinMaxScaler().fit_transform(data['Rated Power (kW)'].values.reshape(-1,1))\n",
    "temp['Robust Scaler'] = RobustScaler().fit_transform(data['Rated Power (kW)'].values.reshape(-1,1))\n",
    "temp.hist(bins=50)"
   ]
  },
  {
   "cell_type": "code",
   "execution_count": 63,
   "metadata": {
    "scrolled": false
   },
   "outputs": [
    {
     "data": {
      "text/plain": [
       "array([[<AxesSubplot:title={'center':'Log Scaler'}>,\n",
       "        <AxesSubplot:title={'center':'Normalizer'}>],\n",
       "       [<AxesSubplot:title={'center':'Robust Scaler'}>,\n",
       "        <AxesSubplot:title={'center':'MinMaxScaler'}>]], dtype=object)"
      ]
     },
     "execution_count": 63,
     "metadata": {},
     "output_type": "execute_result"
    },
    {
     "data": {
      "image/png": "[encoded data removed]",
      "text/plain": [
       "<Figure size 432x288 with 4 Axes>"
      ]
     },
     "metadata": {},
     "output_type": "display_data"
    }
   ],
   "source": [
    "temp = pd.DataFrame()\n",
    "temp['Log Scaler'] = np.log10(data['Duration (hours)']+0.000001)\n",
    "temp['Normalizer'] = Normalizer().fit_transform(data['Duration (hours)'].values.reshape(-1,1))\n",
    "temp['Robust Scaler'] = RobustScaler().fit_transform(data['Duration (hours)'].values.reshape(-1,1))\n",
    "temp['MinMaxScaler'] = MinMaxScaler().fit_transform(data['Duration (hours)'].values.reshape(-1,1))\n",
    "temp.hist(bins=50)"
   ]
  },
  {
   "cell_type": "code",
   "execution_count": 64,
   "metadata": {},
   "outputs": [
    {
     "data": {
      "text/plain": [
       "array([[<AxesSubplot:title={'center':'Log Scaler'}>,\n",
       "        <AxesSubplot:title={'center':'Normalizer'}>],\n",
       "       [<AxesSubplot:title={'center':'Robust Scaler'}>,\n",
       "        <AxesSubplot:title={'center':'MinMaxScaler'}>]], dtype=object)"
      ]
     },
     "execution_count": 64,
     "metadata": {},
     "output_type": "execute_result"
    },
    {
     "data": {
      "image/png": "[encoded data removed]",
      "text/plain": [
       "<Figure size 432x288 with 4 Axes>"
      ]
     },
     "metadata": {},
     "output_type": "display_data"
    }
   ],
   "source": [
    "temp = pd.DataFrame()\n",
    "temp['Log Scaler'] = np.log10(data['Elevation Difference']+0.000001)\n",
    "temp['Normalizer'] = Normalizer().fit_transform(data['Elevation Difference'].values.reshape(-1,1))\n",
    "temp['Robust Scaler'] = RobustScaler().fit_transform(data['Elevation Difference'].values.reshape(-1,1))\n",
    "temp['MinMaxScaler'] = MinMaxScaler().fit_transform(data['Elevation Difference'].values.reshape(-1,1))\n",
    "temp.hist(bins=50)"
   ]
  },
  {
   "cell_type": "code",
   "execution_count": 65,
   "metadata": {
    "scrolled": true
   },
   "outputs": [
    {
     "name": "stdout",
     "output_type": "stream",
     "text": [
      "['Cold Thermal' 'Electro-chemical' 'Electro-mechanical' 'Flow Battery'\n",
      " 'Hot Thermal' 'Lead Battery' 'Lithium Battery' 'Pumped Hydro Storage'\n",
      " 'Sodium Battery']\n"
     ]
    }
   ],
   "source": [
    "from sklearn.preprocessing import LabelEncoder\n",
    "encoder = LabelEncoder()\n",
    "tech_cat = data['Category']\n",
    "tech_cat_encoded = encoder.fit_transform(tech_cat)\n",
    "print(encoder.classes_)\n",
    "data['Category Encoded'] = tech_cat_encoded"
   ]
  },
  {
   "cell_type": "code",
   "execution_count": 66,
   "metadata": {
    "scrolled": true
   },
   "outputs": [
    {
     "data": {
      "text/plain": [
       "<seaborn.matrix.ClusterGrid at 0x231294e2850>"
      ]
     },
     "execution_count": 66,
     "metadata": {},
     "output_type": "execute_result"
    },
    {
     "data": {
      "image/png": "[encoded data removed]",
      "text/plain": [
       "<Figure size 720x720 with 4 Axes>"
      ]
     },
     "metadata": {},
     "output_type": "display_data"
    }
   ],
   "source": [
    "# Change i below to one of the Categories:\n",
    "# ['Cold Thermal' 'Electro-chemical' 'Electro-mechanical' 'Flow Battery'\n",
    "#  'Hot Thermal' 'Lead Battery' 'Lithium Battery' 'Pumped Hydro Storage'\n",
    "#  'Sodium Battery']\n",
    "i = 7\n",
    "data['Category_i'] = (data['Category'] == encoder.classes_[i])\n",
    "\n",
    "features = ['Category_i','Elevation','Elevation Difference', 'Rated Power (kW)', 'Duration (hours)','Min Temp','Max Temp','Average Temp'] \n",
    "sb.clustermap(data[features].corr(), annot=True)"
   ]
  },
  {
   "cell_type": "code",
   "execution_count": 67,
   "metadata": {},
   "outputs": [],
   "source": [
    "data2 = data.copy()"
   ]
  },
  {
   "cell_type": "code",
   "execution_count": 68,
   "metadata": {},
   "outputs": [],
   "source": [
    "# Applying log scaler\n",
    "data2['Rated Power (kW)'] = np.log10(data2['Rated Power (kW)']+0.000001)\n",
    "data2['Duration (hours)'] = np.log10(data2['Duration (hours)']+0.000001)\n",
    "data2['Elevation Difference'] = np.log10(data2['Elevation Difference']+0.000001)"
   ]
  },
  {
   "cell_type": "code",
   "execution_count": 69,
   "metadata": {},
   "outputs": [
    {
     "data": {
      "text/plain": [
       "Index(['Technology Broad Category', 'Technology Mid-Type',\n",
       "       'Technology Sub-Type', 'Status', 'Rated Power (kW)', 'Duration (hours)',\n",
       "       'Latitude', 'Longitude', 'Elevation', 'Elevation Difference',\n",
       "       'Max Temp', 'Min Temp', 'Average Temp', 'Category', 'Category Encoded',\n",
       "       'Category_i'],\n",
       "      dtype='object')"
      ]
     },
     "execution_count": 69,
     "metadata": {},
     "output_type": "execute_result"
    }
   ],
   "source": [
    "data2.columns"
   ]
  },
  {
   "cell_type": "code",
   "execution_count": 70,
   "metadata": {
    "scrolled": true
   },
   "outputs": [
    {
     "data": {
      "text/html": [
       "<div>\n",
       "<style scoped>\n",
       "    .dataframe tbody tr th:only-of-type {\n",
       "        vertical-align: middle;\n",
       "    }\n",
       "\n",
       "    .dataframe tbody tr th {\n",
       "        vertical-align: top;\n",
       "    }\n",
       "\n",
       "    .dataframe thead th {\n",
       "        text-align: right;\n",
       "    }\n",
       "</style>\n",
       "<table border=\"1\" class=\"dataframe\">\n",
       "  <thead>\n",
       "    <tr style=\"text-align: right;\">\n",
       "      <th></th>\n",
       "      <th>Rated Power (kW)</th>\n",
       "      <th>Duration (hours)</th>\n",
       "      <th>Longitude</th>\n",
       "      <th>Elevation</th>\n",
       "      <th>Elevation Difference</th>\n",
       "      <th>Max Temp</th>\n",
       "      <th>Min Temp</th>\n",
       "      <th>Average Temp</th>\n",
       "      <th>Category Encoded</th>\n",
       "    </tr>\n",
       "  </thead>\n",
       "  <tbody>\n",
       "    <tr>\n",
       "      <th>0</th>\n",
       "      <td>4.903090</td>\n",
       "      <td>-6.0</td>\n",
       "      <td>10.84</td>\n",
       "      <td>90.318260</td>\n",
       "      <td>1.989876</td>\n",
       "      <td>16.9</td>\n",
       "      <td>-0.6</td>\n",
       "      <td>8.075000</td>\n",
       "      <td>7</td>\n",
       "    </tr>\n",
       "    <tr>\n",
       "      <th>1</th>\n",
       "      <td>3.857332</td>\n",
       "      <td>-6.0</td>\n",
       "      <td>0.22</td>\n",
       "      <td>1002.296509</td>\n",
       "      <td>2.393219</td>\n",
       "      <td>17.7</td>\n",
       "      <td>7.6</td>\n",
       "      <td>12.233333</td>\n",
       "      <td>7</td>\n",
       "    </tr>\n",
       "    <tr>\n",
       "      <th>2</th>\n",
       "      <td>4.462398</td>\n",
       "      <td>-6.0</td>\n",
       "      <td>-73.43</td>\n",
       "      <td>66.019066</td>\n",
       "      <td>1.803218</td>\n",
       "      <td>20.7</td>\n",
       "      <td>-6.0</td>\n",
       "      <td>7.833333</td>\n",
       "      <td>7</td>\n",
       "    </tr>\n",
       "    <tr>\n",
       "      <th>3</th>\n",
       "      <td>5.130334</td>\n",
       "      <td>-6.0</td>\n",
       "      <td>8.78</td>\n",
       "      <td>888.960022</td>\n",
       "      <td>-1.398168</td>\n",
       "      <td>16.9</td>\n",
       "      <td>-0.6</td>\n",
       "      <td>8.075000</td>\n",
       "      <td>7</td>\n",
       "    </tr>\n",
       "    <tr>\n",
       "      <th>4</th>\n",
       "      <td>4.477121</td>\n",
       "      <td>-6.0</td>\n",
       "      <td>37.44</td>\n",
       "      <td>173.639954</td>\n",
       "      <td>0.391144</td>\n",
       "      <td>17.0</td>\n",
       "      <td>-9.7</td>\n",
       "      <td>4.266667</td>\n",
       "      <td>7</td>\n",
       "    </tr>\n",
       "  </tbody>\n",
       "</table>\n",
       "</div>"
      ],
      "text/plain": [
       "   Rated Power (kW)  Duration (hours)  Longitude    Elevation  \\\n",
       "0          4.903090              -6.0      10.84    90.318260   \n",
       "1          3.857332              -6.0       0.22  1002.296509   \n",
       "2          4.462398              -6.0     -73.43    66.019066   \n",
       "3          5.130334              -6.0       8.78   888.960022   \n",
       "4          4.477121              -6.0      37.44   173.639954   \n",
       "\n",
       "   Elevation Difference  Max Temp  Min Temp  Average Temp  Category Encoded  \n",
       "0              1.989876      16.9      -0.6      8.075000                 7  \n",
       "1              2.393219      17.7       7.6     12.233333                 7  \n",
       "2              1.803218      20.7      -6.0      7.833333                 7  \n",
       "3             -1.398168      16.9      -0.6      8.075000                 7  \n",
       "4              0.391144      17.0      -9.7      4.266667                 7  "
      ]
     },
     "execution_count": 70,
     "metadata": {},
     "output_type": "execute_result"
    }
   ],
   "source": [
    "# remove the following columns\n",
    "to_drop = ['Technology Broad Category','Technology Mid-Type','Technology Sub-Type','Status','Latitude','Latitude','Category','Category_i']\n",
    "data2 = data2.drop(to_drop, axis=1)\n",
    "data2.head()"
   ]
  },
  {
   "cell_type": "markdown",
   "metadata": {},
   "source": [
    "## Model Training"
   ]
  },
  {
   "cell_type": "code",
   "execution_count": 71,
   "metadata": {
    "jupyter": {
     "outputs_hidden": false
    }
   },
   "outputs": [],
   "source": [
    "# data split\n",
    "x = data2.drop('Category Encoded', axis=1)\n",
    "y = data2['Category Encoded']\n",
    "x_train, x_test, y_train, y_test = train_test_split(x, y, test_size = 0.25, random_state=0)"
   ]
  },
  {
   "cell_type": "code",
   "execution_count": 80,
   "metadata": {
    "jupyter": {
     "outputs_hidden": false
    },
    "scrolled": true
   },
   "outputs": [
    {
     "name": "stdout",
     "output_type": "stream",
     "text": [
      "K-Nearest Neighbors\n",
      "              precision    recall  f1-score   support\n",
      "\n",
      "           0       0.55      0.71      0.62        41\n",
      "           1       0.35      0.37      0.36        30\n",
      "           2       0.00      0.00      0.00         7\n",
      "           3       0.25      0.05      0.08        20\n",
      "           4       0.14      0.06      0.08        17\n",
      "           5       0.29      0.10      0.15        20\n",
      "           6       0.42      0.60      0.49       110\n",
      "           7       0.61      0.56      0.58        82\n",
      "           8       0.00      0.00      0.00        15\n",
      "\n",
      "    accuracy                           0.46       342\n",
      "   macro avg       0.29      0.27      0.26       342\n",
      "weighted avg       0.42      0.46      0.42       342\n",
      "\n",
      "accuracy:  0.45614035087719296\n",
      "\n",
      "\n",
      "LogisticRegression\n",
      "              precision    recall  f1-score   support\n",
      "\n",
      "           0       0.38      0.37      0.37        41\n",
      "           1       0.71      0.17      0.27        30\n",
      "           2       0.00      0.00      0.00         7\n",
      "           3       0.00      0.00      0.00        20\n",
      "           4       0.00      0.00      0.00        17\n",
      "           5       0.00      0.00      0.00        20\n",
      "           6       0.44      0.85      0.58       110\n",
      "           7       0.78      0.79      0.79        82\n",
      "           8       0.00      0.00      0.00        15\n",
      "\n",
      "    accuracy                           0.52       342\n",
      "   macro avg       0.26      0.24      0.22       342\n",
      "weighted avg       0.44      0.52      0.44       342\n",
      "\n",
      "accuracy:  0.52046783625731\n",
      "\n",
      "\n",
      "Decision Tree\n",
      "              precision    recall  f1-score   support\n",
      "\n",
      "           0       0.71      0.73      0.72        41\n",
      "           1       0.30      0.37      0.33        30\n",
      "           2       0.15      0.29      0.20         7\n",
      "           3       0.20      0.20      0.20        20\n",
      "           4       0.91      0.59      0.71        17\n",
      "           5       0.28      0.25      0.26        20\n",
      "           6       0.63      0.63      0.63       110\n",
      "           7       0.99      0.95      0.97        82\n",
      "           8       0.25      0.20      0.22        15\n",
      "\n",
      "    accuracy                           0.62       342\n",
      "   macro avg       0.49      0.47      0.47       342\n",
      "weighted avg       0.64      0.62      0.63       342\n",
      "\n",
      "accuracy:  0.6198830409356725\n",
      "\n",
      "\n",
      "Neural Net\n",
      "              precision    recall  f1-score   support\n",
      "\n",
      "           0       0.70      0.46      0.56        41\n",
      "           1       0.38      0.17      0.23        30\n",
      "           2       0.00      0.00      0.00         7\n",
      "           3       0.00      0.00      0.00        20\n",
      "           4       0.00      0.00      0.00        17\n",
      "           5       0.50      0.05      0.09        20\n",
      "           6       0.46      0.85      0.60       110\n",
      "           7       0.77      0.77      0.77        82\n",
      "           8       0.00      0.00      0.00        15\n",
      "\n",
      "    accuracy                           0.53       342\n",
      "   macro avg       0.31      0.25      0.25       342\n",
      "weighted avg       0.48      0.53      0.47       342\n",
      "\n",
      "accuracy:  0.5292397660818714\n",
      "\n",
      "\n",
      "Random Forest\n",
      "              precision    recall  f1-score   support\n",
      "\n",
      "           0       0.78      0.85      0.81        41\n",
      "           1       0.42      0.27      0.33        30\n",
      "           2       0.12      0.14      0.13         7\n",
      "           3       0.62      0.25      0.36        20\n",
      "           4       1.00      0.71      0.83        17\n",
      "           5       0.42      0.25      0.31        20\n",
      "           6       0.64      0.85      0.73       110\n",
      "           7       0.96      1.00      0.98        82\n",
      "           8       0.33      0.13      0.19        15\n",
      "\n",
      "    accuracy                           0.71       342\n",
      "   macro avg       0.59      0.50      0.52       342\n",
      "weighted avg       0.69      0.71      0.69       342\n",
      "\n",
      "accuracy:  0.7134502923976608\n",
      "\n",
      "\n",
      "Gradient Boost\n",
      "              precision    recall  f1-score   support\n",
      "\n",
      "           0       0.72      0.88      0.79        41\n",
      "           1       0.33      0.20      0.25        30\n",
      "           2       0.18      0.29      0.22         7\n",
      "           3       0.45      0.25      0.32        20\n",
      "           4       0.85      0.65      0.73        17\n",
      "           5       0.33      0.20      0.25        20\n",
      "           6       0.65      0.85      0.74       110\n",
      "           7       0.98      0.96      0.97        82\n",
      "           8       1.00      0.27      0.42        15\n",
      "\n",
      "    accuracy                           0.70       342\n",
      "   macro avg       0.61      0.50      0.52       342\n",
      "weighted avg       0.70      0.70      0.68       342\n",
      "\n",
      "accuracy:  0.7017543859649122\n",
      "\n",
      "\n",
      "[13:29:56] WARNING: C:/Users/Administrator/workspace/xgboost-win64_release_1.3.0/src/learner.cc:1061: Starting in XGBoost 1.3.0, the default evaluation metric used with the objective 'multi:softprob' was changed from 'merror' to 'mlogloss'. Explicitly set eval_metric if you'd like to restore the old behavior.\n",
      "XG-Boost\n",
      "              precision    recall  f1-score   support\n",
      "\n",
      "           0       0.74      0.85      0.80        41\n",
      "           1       0.36      0.27      0.31        30\n",
      "           2       0.10      0.14      0.12         7\n",
      "           3       0.38      0.15      0.21        20\n",
      "           4       1.00      0.76      0.87        17\n",
      "           5       0.31      0.25      0.28        20\n",
      "           6       0.67      0.83      0.74       110\n",
      "           7       0.98      1.00      0.99        82\n",
      "           8       0.50      0.20      0.29        15\n",
      "\n",
      "    accuracy                           0.70       342\n",
      "   macro avg       0.56      0.50      0.51       342\n",
      "weighted avg       0.68      0.70      0.68       342\n",
      "\n",
      "accuracy:  0.7046783625730995\n",
      "\n",
      "\n"
     ]
    }
   ],
   "source": [
    "# K-nearest neighbors, Logistic regression, Decision trees, Random forest, Gradient boosting machine\n",
    "model_names = ['KNN', 'LR', 'DT', 'MLP', 'RF', 'GBM']\n",
    "data_acc = []\n",
    "data_f1 = []\n",
    "\n",
    "# KNN\n",
    "KNN = KNeighborsClassifier()\n",
    "KNN.fit(x_train, y_train)\n",
    "y_pred = KNN.predict(x_test)\n",
    "print('K-Nearest Neighbors')\n",
    "print(classification_report(y_test, y_pred))\n",
    "print('accuracy: ', accuracy_score(y_test, y_pred))\n",
    "print('\\n')\n",
    "\n",
    "LR = LogisticRegression()\n",
    "LR.fit(x_train, y_train)\n",
    "y_pred = LR.predict(x_test)\n",
    "print('LogisticRegression')\n",
    "print(classification_report(y_test, y_pred))\n",
    "print('accuracy: ', accuracy_score(y_test, y_pred))\n",
    "print('\\n')\n",
    "\n",
    "DT = DecisionTreeClassifier()\n",
    "DT.fit(x_train, y_train)\n",
    "y_pred = DT.predict(x_test)\n",
    "print('Decision Tree')\n",
    "print(classification_report(y_test, y_pred))\n",
    "print('accuracy: ', accuracy_score(y_test, y_pred))\n",
    "print('\\n')\n",
    "\n",
    "MLP = MLPClassifier()\n",
    "MLP.fit(x_train, y_train)\n",
    "y_pred = MLP.predict(x_test)\n",
    "print('Neural Net')\n",
    "print(classification_report(y_test, y_pred))\n",
    "print('accuracy: ', accuracy_score(y_test, y_pred))\n",
    "print('\\n')\n",
    "\n",
    "RF = RandomForestClassifier()\n",
    "RF.fit(x_train, y_train)\n",
    "y_pred = RF.predict(x_test)\n",
    "print('Random Forest')\n",
    "print(classification_report(y_test, y_pred))\n",
    "print('accuracy: ', accuracy_score(y_test, y_pred))\n",
    "print('\\n')\n",
    "\n",
    "GBM = GradientBoostingClassifier()\n",
    "GBM.fit(x_train, y_train)\n",
    "y_pred = GBM.predict(x_test)\n",
    "print('Gradient Boost')\n",
    "print(classification_report(y_test, y_pred))\n",
    "print('accuracy: ', accuracy_score(y_test, y_pred))\n",
    "print('\\n')\n",
    "\n",
    "XGB = xgb.XGBClassifier()\n",
    "XGB.fit(x_train,y_train)\n",
    "y_pred = XGB.predict(x_test)\n",
    "print('XG-Boost')\n",
    "print(classification_report(y_test, y_pred))\n",
    "print('accuracy: ', accuracy_score(y_test, y_pred))\n",
    "print('\\n')"
   ]
  },
  {
   "cell_type": "markdown",
   "metadata": {},
   "source": [
    "### Model Tuning\n",
    "- The 3 tree based ensemble models perform similarly\n",
    "- Hyperparameter tuning is applied to random forest classifier with 5 fold cross validation\n",
    "    - Random grid search with larger range of hyperparameter values to narrow down range \n",
    "    - Exhaustive grid search with smaller range of hyperparamter values to identify best model"
   ]
  },
  {
   "cell_type": "code",
   "execution_count": 98,
   "metadata": {
    "scrolled": true
   },
   "outputs": [
    {
     "name": "stdout",
     "output_type": "stream",
     "text": [
      "{'n_estimators': [10, 20, 30, 40, 50, 60, 70, 80, 90, 100, 110, 120, 130, 140, 150, 160, 170, 180, 190, 200, 210, 220, 230, 240, 250, 260, 270, 280, 290, 300, 310, 320, 330, 340, 350, 360, 370, 380, 390, 400, 410, 420, 430, 440, 450, 460, 470, 480, 490, 500], 'max_features': ['auto', 'sqrt'], 'max_depth': [10, 20, 30, 40, 50, 60, 70, 80, 90, 100, None], 'min_samples_split': [2, 5, 10], 'min_samples_leaf': [1, 2, 4], 'bootstrap': [True, False]}\n"
     ]
    }
   ],
   "source": [
    "# Number of trees in random forest\n",
    "n_estimators = [int(x) for x in np.linspace(start = 10, stop = 500, num = 50)]\n",
    "# Number of features to consider at every split\n",
    "max_features = ['auto', 'sqrt']\n",
    "# Maximum number of levels in tree\n",
    "max_depth = [int(x) for x in np.linspace(start = 10, stop = 100, num = 10)]\n",
    "max_depth.append(None)\n",
    "# Minimum number of samples required to split a node\n",
    "min_samples_split = [2, 5, 10]\n",
    "# Minimum number of samples required at each leaf node\n",
    "min_samples_leaf = [1, 2, 4]\n",
    "# Method of selecting samples for training each tree\n",
    "bootstrap = [True, False]# Create the random grid\n",
    "random_grid = {'n_estimators': n_estimators,\n",
    "               'max_features': max_features,\n",
    "               'max_depth': max_depth,\n",
    "               'min_samples_split': min_samples_split,\n",
    "               'min_samples_leaf': min_samples_leaf,\n",
    "               'bootstrap': bootstrap}\n",
    "print(random_grid)"
   ]
  },
  {
   "cell_type": "code",
   "execution_count": 102,
   "metadata": {
    "scrolled": true
   },
   "outputs": [
    {
     "name": "stdout",
     "output_type": "stream",
     "text": [
      "Fitting 5 folds for each of 50 candidates, totalling 250 fits\n"
     ]
    },
    {
     "name": "stderr",
     "output_type": "stream",
     "text": [
      "[Parallel(n_jobs=-1)]: Using backend LokyBackend with 4 concurrent workers.\n",
      "[Parallel(n_jobs=-1)]: Done  33 tasks      | elapsed:   11.5s\n",
      "[Parallel(n_jobs=-1)]: Done 154 tasks      | elapsed:   42.4s\n",
      "[Parallel(n_jobs=-1)]: Done 250 out of 250 | elapsed:  1.2min finished\n"
     ]
    },
    {
     "name": "stdout",
     "output_type": "stream",
     "text": [
      "              precision    recall  f1-score   support\n",
      "\n",
      "           0       0.71      0.85      0.78        41\n",
      "           1       0.47      0.23      0.31        30\n",
      "           2       0.14      0.14      0.14         7\n",
      "           3       1.00      0.15      0.26        20\n",
      "           4       0.92      0.65      0.76        17\n",
      "           5       0.67      0.20      0.31        20\n",
      "           6       0.64      0.94      0.76       110\n",
      "           7       0.95      0.99      0.97        82\n",
      "           8       0.67      0.13      0.22        15\n",
      "\n",
      "    accuracy                           0.72       342\n",
      "   macro avg       0.68      0.48      0.50       342\n",
      "weighted avg       0.73      0.72      0.68       342\n",
      "\n",
      "accuracy:  0.7222222222222222\n",
      "\n",
      "\n"
     ]
    }
   ],
   "source": [
    "RF = RandomForestClassifier()\n",
    "RF_grid = RandomizedSearchCV(estimator = RF, param_distributions = random_grid, n_iter = 50, cv = 5, verbose=2, random_state=42, n_jobs = -1)\n",
    "\n",
    "RF_grid.fit(x_train, y_train)\n",
    "best_params = RF_grid.best_params_\n",
    "RF = RandomForestClassifier(n_estimators = best_params[\"n_estimators\"], \n",
    "                            max_features = best_params[\"max_features\"],\n",
    "                            max_depth = best_params[\"max_depth\"],\n",
    "                            min_samples_split = best_params[\"min_samples_split\"],\n",
    "                            min_samples_leaf = best_params[\"min_samples_leaf\"],\n",
    "                            bootstrap = best_params[\"bootstrap\"],)\n",
    "RF.fit(x_train, y_train)\n",
    "y_pred = RF.predict(x_test)\n",
    "\n",
    "print(classification_report(y_test, y_pred))\n",
    "print('accuracy: ', accuracy_score(y_test, y_pred))\n",
    "print('\\n')"
   ]
  },
  {
   "cell_type": "code",
   "execution_count": 103,
   "metadata": {
    "scrolled": true
   },
   "outputs": [
    {
     "name": "stdout",
     "output_type": "stream",
     "text": [
      "{'n_estimators': 320, 'min_samples_split': 10, 'min_samples_leaf': 4, 'max_features': 'auto', 'max_depth': 100, 'bootstrap': False}\n"
     ]
    }
   ],
   "source": [
    "print(best_params)"
   ]
  },
  {
   "cell_type": "code",
   "execution_count": 121,
   "metadata": {},
   "outputs": [
    {
     "name": "stdout",
     "output_type": "stream",
     "text": [
      "GridSearchCV(cv=5, estimator=RandomForestClassifier(), n_jobs=-1,\n",
      "             param_grid={'max_depth': [3, 5, 7, 9, 11],\n",
      "                         'n_estimators': [50, 100, 150, 200, 250]},\n",
      "             scoring='accuracy', verbose=2)\n"
     ]
    }
   ],
   "source": [
    "# Number of trees in random forest\n",
    "n_estimators = [310, 320, 330, 340]\n",
    "# Maximum number of levels in tree\n",
    "max_depth = [100, 110, 120]\n",
    "max_depth.append(None)\n",
    "# Minimum number of samples required to split a node\n",
    "min_samples_split = [8, 10, 12]\n",
    "# Minimum number of samples required at each leaf node\n",
    "min_samples_leaf = [3, 4, 5]\n",
    "\n",
    "params = {'n_estimators': n_estimators,\n",
    "               'max_depth': max_depth,\n",
    "               'min_samples_split': min_samples_split,\n",
    "               'min_samples_leaf': min_samples_leaf}\n",
    "print(RF_grid)"
   ]
  },
  {
   "cell_type": "code",
   "execution_count": 122,
   "metadata": {},
   "outputs": [
    {
     "name": "stdout",
     "output_type": "stream",
     "text": [
      "Fitting 5 folds for each of 144 candidates, totalling 720 fits\n"
     ]
    },
    {
     "name": "stderr",
     "output_type": "stream",
     "text": [
      "[Parallel(n_jobs=-1)]: Using backend LokyBackend with 4 concurrent workers.\n",
      "[Parallel(n_jobs=-1)]: Done  33 tasks      | elapsed:   10.7s\n",
      "[Parallel(n_jobs=-1)]: Done 154 tasks      | elapsed:   49.1s\n",
      "[Parallel(n_jobs=-1)]: Done 357 tasks      | elapsed:  2.0min\n",
      "[Parallel(n_jobs=-1)]: Done 640 tasks      | elapsed:  3.7min\n",
      "[Parallel(n_jobs=-1)]: Done 720 out of 720 | elapsed:  4.2min finished\n"
     ]
    },
    {
     "name": "stdout",
     "output_type": "stream",
     "text": [
      "              precision    recall  f1-score   support\n",
      "\n",
      "           0       0.74      0.85      0.80        41\n",
      "           1       0.50      0.23      0.32        30\n",
      "           2       0.14      0.14      0.14         7\n",
      "           3       0.75      0.15      0.25        20\n",
      "           4       0.92      0.71      0.80        17\n",
      "           5       0.50      0.20      0.29        20\n",
      "           6       0.64      0.93      0.76       110\n",
      "           7       0.95      0.99      0.97        82\n",
      "           8       0.50      0.13      0.21        15\n",
      "\n",
      "    accuracy                           0.72       342\n",
      "   macro avg       0.63      0.48      0.50       342\n",
      "weighted avg       0.71      0.72      0.68       342\n",
      "\n",
      "accuracy:  0.7222222222222222\n",
      "\n",
      "\n"
     ]
    }
   ],
   "source": [
    "# perform exhaustive grid search\n",
    "RF = RandomForestClassifier()\n",
    "\n",
    "RF_grid = GridSearchCV(estimator = RF, param_grid = params, scoring = 'accuracy', cv = 5, verbose=2, n_jobs = -1)\n",
    "\n",
    "RF_grid.fit(x_train, y_train)\n",
    "best_params = RF_grid.best_params_\n",
    "RF = RandomForestClassifier(n_estimators = best_params[\"n_estimators\"],\n",
    "                            max_depth = best_params[\"max_depth\"],\n",
    "                            min_samples_split = best_params[\"min_samples_split\"],\n",
    "                            min_samples_leaf = best_params[\"min_samples_leaf\"],\n",
    "                            bootstrap = False,)\n",
    "RF.fit(x_train, y_train)\n",
    "y_pred = RF.predict(x_test)\n",
    "\n",
    "print(classification_report(y_test, y_pred))\n",
    "print('accuracy: ', accuracy_score(y_test, y_pred))\n",
    "print('\\n')"
   ]
  },
  {
   "cell_type": "code",
   "execution_count": 123,
   "metadata": {},
   "outputs": [
    {
     "data": {
      "text/plain": [
       "{'max_depth': None,\n",
       " 'min_samples_leaf': 3,\n",
       " 'min_samples_split': 8,\n",
       " 'n_estimators': 320}"
      ]
     },
     "execution_count": 123,
     "metadata": {},
     "output_type": "execute_result"
    }
   ],
   "source": [
    "best_params"
   ]
  }
 ],
 "metadata": {
  "anaconda-cloud": {},
  "kernelspec": {
   "display_name": "Python 3",
   "language": "python",
   "name": "python3"
  },
  "language_info": {
   "codemirror_mode": {
    "name": "ipython",
    "version": 3
   },
   "file_extension": ".py",
   "mimetype": "text/x-python",
   "name": "python",
   "nbconvert_exporter": "python",
   "pygments_lexer": "ipython3",
   "version": "3.8.5"
  }
 },
 "nbformat": 4,
 "nbformat_minor": 4
}
